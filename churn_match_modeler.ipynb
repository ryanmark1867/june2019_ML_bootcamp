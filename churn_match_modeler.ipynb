{
    "nbformat_minor": 2, 
    "cells": [
        {
            "source": "# Customer Churn Prediction: from Python to Modeler and back to Python\n\n\nAdapted from original by Heba El-Shimy https://raw.githubusercontent.com/IBM/customer-churn-prediction/master/notebooks/customer-churn-prediction.ipynb \n\n-------------------\n\n- This article: https://medium.com/@markryan_69718/watson-studio-desktop-first-impressions-5a85309597d0 describes adapting the original Python-based churn solution described here: https://developer.ibm.com/patterns/predict-customer-churn-using-watson-studio-and-jupyter-notebooks/\n- the article describes a simple Modeler flow https://github.com/ryanmark1867/shared_ml/blob/master/churn%20flow%20Feb%202019.str?raw=true that implements a subset of the original Python-based churn solution\n- this notebook takes things full circle by attempting to implement the Modeler flow \"note for note\" back into a much simplified Python notebook that captures nuances of the Modeler flow\n\nThis notebook shows screenshots of the Modeler flow followed by the Python that attempts to implement the same function.\n", 
            "cell_type": "markdown", 
            "metadata": {
                "slideshow": {
                    "slide_type": "slide"
                }
            }
        }, 
        {
            "source": "# Load Libraries", 
            "cell_type": "markdown", 
            "metadata": {
                "slideshow": {
                    "slide_type": "slide"
                }
            }
        }, 
        {
            "execution_count": 1, 
            "cell_type": "code", 
            "metadata": {
                "scrolled": true, 
                "slideshow": {
                    "slide_type": "fragment"
                }
            }, 
            "outputs": [
                {
                    "output_type": "stream", 
                    "name": "stdout", 
                    "text": "Pixiedust database opened successfully\nTable VERSION_TRACKER created successfully\nTable METRICS_TRACKER created successfully\n\nShare anonymous install statistics? (opt-out instructions)\n\nPixieDust will record metadata on its environment the next time the package is installed or updated. The data is anonymized and aggregated to help plan for future releases, and records only the following values:\n\n{\n   \"data_sent\": currentDate,\n   \"runtime\": \"python\",\n   \"application_version\": currentPixiedustVersion,\n   \"space_id\": nonIdentifyingUniqueId,\n   \"config\": {\n       \"repository_id\": \"https://github.com/ibm-watson-data-lab/pixiedust\",\n       \"target_runtimes\": [\"Data Science Experience\"],\n       \"event_id\": \"web\",\n       \"event_organizer\": \"dev-journeys\"\n   }\n}\nYou can opt out by calling pixiedust.optOut() in a new cell.\n"
                }, 
                {
                    "output_type": "display_data", 
                    "data": {
                        "text/html": "\n        <div style=\"margin:10px\">\n            <a href=\"https://github.com/ibm-watson-data-lab/pixiedust\" target=\"_new\">\n                <img src=\"https://github.com/ibm-watson-data-lab/pixiedust/raw/master/docs/_static/pd_icon32.png\" style=\"float:left;margin-right:10px\"/>\n            </a>\n            <span>Pixiedust version 1.1.15</span>\n        </div>\n        ", 
                        "text/plain": "<IPython.core.display.HTML object>"
                    }, 
                    "metadata": {}
                }, 
                {
                    "output_type": "stream", 
                    "name": "stdout", 
                    "text": "\u001b[31mPixiedust runtime updated. Please restart kernel\u001b[0m\nTable USER_PREFERENCES created successfully\nTable service_connections created successfully\n"
                }
            ], 
            "source": "import os\nimport pandas as pd\nimport numpy as np\nimport seaborn as sns\nimport matplotlib.pyplot as plt\nfrom sklearn import preprocessing, svm\nfrom itertools import combinations\nfrom sklearn.preprocessing import PolynomialFeatures, LabelEncoder, StandardScaler\nimport sklearn.feature_selection\nfrom sklearn.model_selection import train_test_split\nfrom collections import defaultdict\nfrom sklearn import metrics\nfrom scipy import stats\nfrom scipy.stats import zscore\nfrom sklearn.model_selection import train_test_split\nfrom sklearn.metrics import accuracy_score\nfrom sklearn.metrics import average_precision_score\nimport pixiedust\n\ntestproportion = 0.3\n"
        }, 
        {
            "source": "# The Dataset\n\nThe same dataset used in this notebook was used in the Modeler flow described above.\n\nFrom a telecommunications company. It includes information about:  \n- Customers who left within the last month \u2013 the column is called Churn\n\n- Services that each customer has signed up for \u2013 phone, multiple lines, internet, online security, online backup, device protection, tech support, and streaming TV and movies\n\n- Customer account information \u2013 how long they\u2019ve been a customer, contract, payment method, paperless billing, monthly charges, and total charges\n\n- Demographic info about customers \u2013 gender, age range, and if they have partners and dependents\n\nLink for getting the dataset: [https://community.watsonanalytics.com/wp-content/uploads/2015/03/WA_Fn-UseC_-Telco-Customer-Churn.csv](https://community.watsonanalytics.com/wp-content/uploads/2015/03/WA_Fn-UseC_-Telco-Customer-Churn.csv)\n\n", 
            "cell_type": "markdown", 
            "metadata": {
                "slideshow": {
                    "slide_type": "slide"
                }
            }
        }, 
        {
            "source": "# Ingest dataset\n- the first step in the Modeler flow is to ingest the dataset\n- the code below brings the dataset into a Pandas dataframe\n<table style=\"border: none\" align=\"left\">\n   </tr>\n   <tr style=\"border: none\">\n       <th style=\"border: none\"><img src=\"https://raw.githubusercontent.com/ryanmark1867/june2019_ML_bootcamp/master/flow_ingest_data.jpg\" width=\"600\" alt=\"Icon\"> </th>\n   </tr>\n</table>\n", 
            "cell_type": "markdown", 
            "metadata": {}
        }, 
        {
            "source": "### 2. Loading Our Dataset\n\nClick on the cell below to highlight it.\n\nThen go to the `Files` section to the right of this notebook and click `Insert to code` for the data you have uploaded. Choose `Insert pandas DataFrame`.", 
            "cell_type": "markdown", 
            "metadata": {
                "slideshow": {
                    "slide_type": "slide"
                }
            }
        }, 
        {
            "execution_count": 2, 
            "cell_type": "code", 
            "metadata": {}, 
            "outputs": [
                {
                    "execution_count": 2, 
                    "metadata": {}, 
                    "data": {
                        "text/html": "<div>\n<style scoped>\n    .dataframe tbody tr th:only-of-type {\n        vertical-align: middle;\n    }\n\n    .dataframe tbody tr th {\n        vertical-align: top;\n    }\n\n    .dataframe thead th {\n        text-align: right;\n    }\n</style>\n<table border=\"1\" class=\"dataframe\">\n  <thead>\n    <tr style=\"text-align: right;\">\n      <th></th>\n      <th>customerID</th>\n      <th>gender</th>\n      <th>SeniorCitizen</th>\n      <th>Partner</th>\n      <th>Dependents</th>\n      <th>tenure</th>\n      <th>PhoneService</th>\n      <th>MultipleLines</th>\n      <th>InternetService</th>\n      <th>OnlineSecurity</th>\n      <th>...</th>\n      <th>DeviceProtection</th>\n      <th>TechSupport</th>\n      <th>StreamingTV</th>\n      <th>StreamingMovies</th>\n      <th>Contract</th>\n      <th>PaperlessBilling</th>\n      <th>PaymentMethod</th>\n      <th>MonthlyCharges</th>\n      <th>TotalCharges</th>\n      <th>Churn</th>\n    </tr>\n  </thead>\n  <tbody>\n    <tr>\n      <th>0</th>\n      <td>7590-VHVEG</td>\n      <td>Female</td>\n      <td>0</td>\n      <td>Yes</td>\n      <td>No</td>\n      <td>1</td>\n      <td>No</td>\n      <td>No phone service</td>\n      <td>DSL</td>\n      <td>No</td>\n      <td>...</td>\n      <td>No</td>\n      <td>No</td>\n      <td>No</td>\n      <td>No</td>\n      <td>Month-to-month</td>\n      <td>Yes</td>\n      <td>Electronic check</td>\n      <td>29.85</td>\n      <td>29.85</td>\n      <td>No</td>\n    </tr>\n    <tr>\n      <th>1</th>\n      <td>5575-GNVDE</td>\n      <td>Male</td>\n      <td>0</td>\n      <td>No</td>\n      <td>No</td>\n      <td>34</td>\n      <td>Yes</td>\n      <td>No</td>\n      <td>DSL</td>\n      <td>Yes</td>\n      <td>...</td>\n      <td>Yes</td>\n      <td>No</td>\n      <td>No</td>\n      <td>No</td>\n      <td>One year</td>\n      <td>No</td>\n      <td>Mailed check</td>\n      <td>56.95</td>\n      <td>1889.50</td>\n      <td>No</td>\n    </tr>\n    <tr>\n      <th>2</th>\n      <td>3668-QPYBK</td>\n      <td>Male</td>\n      <td>0</td>\n      <td>No</td>\n      <td>No</td>\n      <td>2</td>\n      <td>Yes</td>\n      <td>No</td>\n      <td>DSL</td>\n      <td>Yes</td>\n      <td>...</td>\n      <td>No</td>\n      <td>No</td>\n      <td>No</td>\n      <td>No</td>\n      <td>Month-to-month</td>\n      <td>Yes</td>\n      <td>Mailed check</td>\n      <td>53.85</td>\n      <td>108.15</td>\n      <td>Yes</td>\n    </tr>\n    <tr>\n      <th>3</th>\n      <td>7795-CFOCW</td>\n      <td>Male</td>\n      <td>0</td>\n      <td>No</td>\n      <td>No</td>\n      <td>45</td>\n      <td>No</td>\n      <td>No phone service</td>\n      <td>DSL</td>\n      <td>Yes</td>\n      <td>...</td>\n      <td>Yes</td>\n      <td>Yes</td>\n      <td>No</td>\n      <td>No</td>\n      <td>One year</td>\n      <td>No</td>\n      <td>Bank transfer (automatic)</td>\n      <td>42.30</td>\n      <td>1840.75</td>\n      <td>No</td>\n    </tr>\n    <tr>\n      <th>4</th>\n      <td>9237-HQITU</td>\n      <td>Female</td>\n      <td>0</td>\n      <td>No</td>\n      <td>No</td>\n      <td>2</td>\n      <td>Yes</td>\n      <td>No</td>\n      <td>Fiber optic</td>\n      <td>No</td>\n      <td>...</td>\n      <td>No</td>\n      <td>No</td>\n      <td>No</td>\n      <td>No</td>\n      <td>Month-to-month</td>\n      <td>Yes</td>\n      <td>Electronic check</td>\n      <td>70.70</td>\n      <td>151.65</td>\n      <td>Yes</td>\n    </tr>\n  </tbody>\n</table>\n<p>5 rows \u00d7 21 columns</p>\n</div>", 
                        "text/plain": "   customerID  gender  SeniorCitizen Partner Dependents  tenure PhoneService  \\\n0  7590-VHVEG  Female              0     Yes         No       1           No   \n1  5575-GNVDE    Male              0      No         No      34          Yes   \n2  3668-QPYBK    Male              0      No         No       2          Yes   \n3  7795-CFOCW    Male              0      No         No      45           No   \n4  9237-HQITU  Female              0      No         No       2          Yes   \n\n      MultipleLines InternetService OnlineSecurity  ...   DeviceProtection  \\\n0  No phone service             DSL             No  ...                 No   \n1                No             DSL            Yes  ...                Yes   \n2                No             DSL            Yes  ...                 No   \n3  No phone service             DSL            Yes  ...                Yes   \n4                No     Fiber optic             No  ...                 No   \n\n  TechSupport StreamingTV StreamingMovies        Contract PaperlessBilling  \\\n0          No          No              No  Month-to-month              Yes   \n1          No          No              No        One year               No   \n2          No          No              No  Month-to-month              Yes   \n3         Yes          No              No        One year               No   \n4          No          No              No  Month-to-month              Yes   \n\n               PaymentMethod MonthlyCharges  TotalCharges  Churn  \n0           Electronic check          29.85         29.85     No  \n1               Mailed check          56.95       1889.50     No  \n2               Mailed check          53.85        108.15    Yes  \n3  Bank transfer (automatic)          42.30       1840.75     No  \n4           Electronic check          70.70        151.65    Yes  \n\n[5 rows x 21 columns]"
                    }, 
                    "output_type": "execute_result"
                }
            ], 
            "source": "# The code was removed by Watson Studio for sharing."
        }, 
        {
            "execution_count": 3, 
            "cell_type": "code", 
            "metadata": {}, 
            "outputs": [], 
            "source": "customer_data = df_data_1"
        }, 
        {
            "execution_count": 4, 
            "cell_type": "code", 
            "metadata": {}, 
            "outputs": [
                {
                    "output_type": "stream", 
                    "name": "stdout", 
                    "text": "/home/dsxuser/work\r\n"
                }
            ], 
            "source": "!pwd"
        }, 
        {
            "source": "# Select subset of columns from original dataset\n- the next node of the Modeler flow selects a subset of the columns from the original dataset\n\n<table style=\"border: none\" align=\"left\">\n   </tr>\n   <tr style=\"border: none\">\n       <th style=\"border: none\"><img src=\"https://raw.githubusercontent.com/ryanmark1867/june2019_ML_bootcamp/master/flow_filter_selected.jpg\" width=\"600\" alt=\"Icon\"> </th>\n   </tr>\n</table>", 
            "cell_type": "markdown", 
            "metadata": {}
        }, 
        {
            "execution_count": 5, 
            "cell_type": "code", 
            "metadata": {}, 
            "outputs": [], 
            "source": "# define the columns that we are going to keep\nretain_columns = ['MonthlyCharges','TotalCharges','InternetService','PaymentMethod','OnlineSecurity','Churn','Contract','tenure']"
        }, 
        {
            "execution_count": 6, 
            "cell_type": "code", 
            "metadata": {}, 
            "outputs": [
                {
                    "execution_count": 6, 
                    "metadata": {}, 
                    "data": {
                        "text/html": "<div>\n<style scoped>\n    .dataframe tbody tr th:only-of-type {\n        vertical-align: middle;\n    }\n\n    .dataframe tbody tr th {\n        vertical-align: top;\n    }\n\n    .dataframe thead th {\n        text-align: right;\n    }\n</style>\n<table border=\"1\" class=\"dataframe\">\n  <thead>\n    <tr style=\"text-align: right;\">\n      <th></th>\n      <th>MonthlyCharges</th>\n      <th>TotalCharges</th>\n      <th>InternetService</th>\n      <th>PaymentMethod</th>\n      <th>OnlineSecurity</th>\n      <th>Churn</th>\n      <th>Contract</th>\n      <th>tenure</th>\n    </tr>\n  </thead>\n  <tbody>\n    <tr>\n      <th>0</th>\n      <td>29.85</td>\n      <td>29.85</td>\n      <td>DSL</td>\n      <td>Electronic check</td>\n      <td>No</td>\n      <td>No</td>\n      <td>Month-to-month</td>\n      <td>1</td>\n    </tr>\n    <tr>\n      <th>1</th>\n      <td>56.95</td>\n      <td>1889.50</td>\n      <td>DSL</td>\n      <td>Mailed check</td>\n      <td>Yes</td>\n      <td>No</td>\n      <td>One year</td>\n      <td>34</td>\n    </tr>\n    <tr>\n      <th>2</th>\n      <td>53.85</td>\n      <td>108.15</td>\n      <td>DSL</td>\n      <td>Mailed check</td>\n      <td>Yes</td>\n      <td>Yes</td>\n      <td>Month-to-month</td>\n      <td>2</td>\n    </tr>\n    <tr>\n      <th>3</th>\n      <td>42.30</td>\n      <td>1840.75</td>\n      <td>DSL</td>\n      <td>Bank transfer (automatic)</td>\n      <td>Yes</td>\n      <td>No</td>\n      <td>One year</td>\n      <td>45</td>\n    </tr>\n    <tr>\n      <th>4</th>\n      <td>70.70</td>\n      <td>151.65</td>\n      <td>Fiber optic</td>\n      <td>Electronic check</td>\n      <td>No</td>\n      <td>Yes</td>\n      <td>Month-to-month</td>\n      <td>2</td>\n    </tr>\n  </tbody>\n</table>\n</div>", 
                        "text/plain": "   MonthlyCharges  TotalCharges InternetService              PaymentMethod  \\\n0           29.85         29.85             DSL           Electronic check   \n1           56.95       1889.50             DSL               Mailed check   \n2           53.85        108.15             DSL               Mailed check   \n3           42.30       1840.75             DSL  Bank transfer (automatic)   \n4           70.70        151.65     Fiber optic           Electronic check   \n\n  OnlineSecurity Churn        Contract  tenure  \n0             No    No  Month-to-month       1  \n1            Yes    No        One year      34  \n2            Yes   Yes  Month-to-month       2  \n3            Yes    No        One year      45  \n4             No   Yes  Month-to-month       2  "
                    }, 
                    "output_type": "execute_result"
                }
            ], 
            "source": "# select a subset of columns from the original dataset\ncustomer_data = customer_data[['MonthlyCharges','TotalCharges','InternetService','PaymentMethod','OnlineSecurity','Churn','Contract','tenure']]\ncustomer_data.head()"
        }, 
        {
            "source": "# Fill empty values in TotalCharges column\n- in the Modeler flow we only fill empty values in the TotalCharges column\n- do the same in Python\n\n<table style=\"border: none\" align=\"left\">\n   </tr>\n   <tr style=\"border: none\">\n       <th style=\"border: none\"><img src=\"https://raw.githubusercontent.com/ryanmark1867/june2019_ML_bootcamp/master/flow_filler.jpg\" width=\"600\" alt=\"Icon\"> </th>\n   </tr>\n</table>", 
            "cell_type": "markdown", 
            "metadata": {}
        }, 
        {
            "execution_count": 7, 
            "cell_type": "code", 
            "metadata": {}, 
            "outputs": [
                {
                    "output_type": "stream", 
                    "name": "stdout", 
                    "text": "empty values in TotalCharges before filling: 11\nempty values in TotalCharges after filling: 0\n"
                }, 
                {
                    "output_type": "stream", 
                    "name": "stderr", 
                    "text": "/opt/conda/envs/DSX-Python35/lib/python3.5/site-packages/pandas/core/generic.py:4355: SettingWithCopyWarning: \nA value is trying to be set on a copy of a slice from a DataFrame\n\nSee the caveats in the documentation: http://pandas.pydata.org/pandas-docs/stable/indexing.html#indexing-view-versus-copy\n  self._update_inplace(new_data)\n"
                }
            ], 
            "source": "# check the number of empty values in TotalCharges before and after filling the missing values\nprint(\"empty values in TotalCharges before filling:\",customer_data['TotalCharges'].isnull().sum())\ncustomer_data['TotalCharges'].fillna(value=0, inplace=True)\nprint(\"empty values in TotalCharges after filling:\",customer_data['TotalCharges'].isnull().sum())"
        }, 
        {
            "source": "# Prep data\nThe next step in the Modeler flow incorporates many preparation steps, including:\n1. replacing categorical tokens with numerical IDs\n2. scaling continuous values\n3. replace outliers (values that are beyond a threshold) with the threshold\n\n<table style=\"border: none\" align=\"left\">\n   </tr>\n   <tr style=\"border: none\">\n       <th style=\"border: none\"><img src=\"https://raw.githubusercontent.com/ryanmark1867/june2019_ML_bootcamp/master/flow_auto_data_prep.jpg\" width=\"600\" alt=\"Icon\"> </th>\n   </tr>\n</table>", 
            "cell_type": "markdown", 
            "metadata": {}
        }, 
        {
            "execution_count": 8, 
            "cell_type": "code", 
            "metadata": {}, 
            "outputs": [], 
            "source": "# identify the subsets of columns that are categorical and continuous\ncategorical_columns = ['InternetService', 'PaymentMethod', 'OnlineSecurity', 'Churn', 'Contract']\ncontinuous_columns = ['MonthlyCharges', 'TotalCharges','tenure']"
        }, 
        {
            "execution_count": 9, 
            "cell_type": "code", 
            "metadata": {}, 
            "outputs": [], 
            "source": "# input dataframe and list of colums to be zscore scaled' return dataframe with those columns scaled\ndef scale_columns(df,col_list):\n    for col in col_list:\n        print(\"col is\",col)\n        df[col] = df[col].apply(zscore)\n    return df"
        }, 
        {
            "execution_count": 10, 
            "cell_type": "code", 
            "metadata": {}, 
            "outputs": [], 
            "source": "# input dataframe and list of columns to be encoded; return dataframe with those columns encoded\ndef encode_columns(df,col_list):\n    for col in col_list:\n        print(\"col is\",col)\n        le = LabelEncoder()\n        le.fit(df[col].tolist())\n        df[col] = le.transform(df[col])\n    return(df)\n "
        }, 
        {
            "execution_count": 11, 
            "cell_type": "code", 
            "metadata": {}, 
            "outputs": [
                {
                    "output_type": "stream", 
                    "name": "stdout", 
                    "text": "col is InternetService\ncol is PaymentMethod\n"
                }, 
                {
                    "output_type": "stream", 
                    "name": "stderr", 
                    "text": "/opt/conda/envs/DSX-Python35/lib/python3.5/site-packages/ipykernel/__main__.py:7: SettingWithCopyWarning: \nA value is trying to be set on a copy of a slice from a DataFrame.\nTry using .loc[row_indexer,col_indexer] = value instead\n\nSee the caveats in the documentation: http://pandas.pydata.org/pandas-docs/stable/indexing.html#indexing-view-versus-copy\n"
                }, 
                {
                    "output_type": "stream", 
                    "name": "stdout", 
                    "text": "col is OnlineSecurity\ncol is Churn\ncol is Contract\n"
                }, 
                {
                    "execution_count": 11, 
                    "metadata": {}, 
                    "data": {
                        "text/html": "<div>\n<style scoped>\n    .dataframe tbody tr th:only-of-type {\n        vertical-align: middle;\n    }\n\n    .dataframe tbody tr th {\n        vertical-align: top;\n    }\n\n    .dataframe thead th {\n        text-align: right;\n    }\n</style>\n<table border=\"1\" class=\"dataframe\">\n  <thead>\n    <tr style=\"text-align: right;\">\n      <th></th>\n      <th>MonthlyCharges</th>\n      <th>TotalCharges</th>\n      <th>InternetService</th>\n      <th>PaymentMethod</th>\n      <th>OnlineSecurity</th>\n      <th>Churn</th>\n      <th>Contract</th>\n      <th>tenure</th>\n    </tr>\n  </thead>\n  <tbody>\n    <tr>\n      <th>0</th>\n      <td>29.85</td>\n      <td>29.85</td>\n      <td>0</td>\n      <td>2</td>\n      <td>0</td>\n      <td>0</td>\n      <td>0</td>\n      <td>1</td>\n    </tr>\n    <tr>\n      <th>1</th>\n      <td>56.95</td>\n      <td>1889.50</td>\n      <td>0</td>\n      <td>3</td>\n      <td>2</td>\n      <td>0</td>\n      <td>1</td>\n      <td>34</td>\n    </tr>\n    <tr>\n      <th>2</th>\n      <td>53.85</td>\n      <td>108.15</td>\n      <td>0</td>\n      <td>3</td>\n      <td>2</td>\n      <td>1</td>\n      <td>0</td>\n      <td>2</td>\n    </tr>\n    <tr>\n      <th>3</th>\n      <td>42.30</td>\n      <td>1840.75</td>\n      <td>0</td>\n      <td>0</td>\n      <td>2</td>\n      <td>0</td>\n      <td>1</td>\n      <td>45</td>\n    </tr>\n    <tr>\n      <th>4</th>\n      <td>70.70</td>\n      <td>151.65</td>\n      <td>1</td>\n      <td>2</td>\n      <td>0</td>\n      <td>1</td>\n      <td>0</td>\n      <td>2</td>\n    </tr>\n  </tbody>\n</table>\n</div>", 
                        "text/plain": "   MonthlyCharges  TotalCharges  InternetService  PaymentMethod  \\\n0           29.85         29.85                0              2   \n1           56.95       1889.50                0              3   \n2           53.85        108.15                0              3   \n3           42.30       1840.75                0              0   \n4           70.70        151.65                1              2   \n\n   OnlineSecurity  Churn  Contract  tenure  \n0               0      0         0       1  \n1               2      0         1      34  \n2               2      1         0       2  \n3               2      0         1      45  \n4               0      1         0       2  "
                    }, 
                    "output_type": "execute_result"
                }
            ], 
            "source": "# replace tokens in categorical columns with numeric IDs\ncustomer_data = encode_columns(customer_data,categorical_columns)\ncustomer_data.head()"
        }, 
        {
            "execution_count": 12, 
            "cell_type": "code", 
            "metadata": {}, 
            "outputs": [
                {
                    "output_type": "stream", 
                    "name": "stdout", 
                    "text": "min MonthlyCharges 18.25\nmax TotalCharges 8684.8\nmin TotalCharges 0.0\nmax tenure 72\nmin tenure 0\n"
                }
            ], 
            "source": "# print(\"max MonthlyCharges\", customer_data['MonthlyCharges'].max())\nprint(\"min MonthlyCharges\", customer_data['MonthlyCharges'].min())\nprint(\"max TotalCharges\", customer_data['TotalCharges'].max())\nprint(\"min TotalCharges\", customer_data['TotalCharges'].min())\nprint(\"max tenure\", customer_data['tenure'].max())\nprint(\"min tenure\", customer_data['tenure'].min())"
        }, 
        {
            "source": "# Prep data 2 - scale continuous values\n\n\n<table style=\"border: none\" align=\"left\">\n   </tr>\n   <tr style=\"border: none\">\n       <th style=\"border: none\"><img src=\"https://raw.githubusercontent.com/ryanmark1867/june2019_ML_bootcamp/master/flow_auto_data_prep_scaling.jpg\" width=\"600\" alt=\"Icon\"> </th>\n   </tr>\n</table>", 
            "cell_type": "markdown", 
            "metadata": {}
        }, 
        {
            "execution_count": 13, 
            "cell_type": "code", 
            "metadata": {}, 
            "outputs": [
                {
                    "output_type": "stream", 
                    "name": "stderr", 
                    "text": "/opt/conda/envs/DSX-Python35/lib/python3.5/site-packages/pandas/core/frame.py:2540: SettingWithCopyWarning: \nA value is trying to be set on a copy of a slice from a DataFrame.\nTry using .loc[row_indexer,col_indexer] = value instead\n\nSee the caveats in the documentation: http://pandas.pydata.org/pandas-docs/stable/indexing.html#indexing-view-versus-copy\n  self[k1] = value[k2]\n"
                }
            ], 
            "source": "# scale continuous columns using zscore\ncustomer_data[continuous_columns] = customer_data[continuous_columns].apply(zscore)"
        }, 
        {
            "source": "# Prep data 3: replace outliers\n- replace outliers (values that are beyond a threshold) with the threshold\n\n<table style=\"border: none\" align=\"left\">\n   </tr>\n   <tr style=\"border: none\">\n       <th style=\"border: none\"><img src=\"https://raw.githubusercontent.com/ryanmark1867/june2019_ML_bootcamp/master/flow_auto_data_prep_outliers_replace.jpg\" width=\"600\" alt=\"Icon\"> </th>\n   </tr>\n</table>", 
            "cell_type": "markdown", 
            "metadata": {}
        }, 
        {
            "execution_count": 14, 
            "cell_type": "code", 
            "metadata": {}, 
            "outputs": [], 
            "source": "def sd_max(x,sd,multiplier):\n    if x > multiplier*sd:\n        return multiplier*sd\n    else:\n        return x\n\ndef replace_outliers(df,multiplier):\n    for col in continuous_columns:\n        sd = df.loc[:,col].std()\n        print(\"sd\",sd)\n        df[col] = df[col].apply(sd_max,args=(sd,multiplier))\n    return df\n        \n        "
        }, 
        {
            "execution_count": 15, 
            "cell_type": "code", 
            "metadata": {}, 
            "outputs": [
                {
                    "output_type": "stream", 
                    "name": "stderr", 
                    "text": "/opt/conda/envs/DSX-Python35/lib/python3.5/site-packages/ipykernel/__main__.py:11: SettingWithCopyWarning: \nA value is trying to be set on a copy of a slice from a DataFrame.\nTry using .loc[row_indexer,col_indexer] = value instead\n\nSee the caveats in the documentation: http://pandas.pydata.org/pandas-docs/stable/indexing.html#indexing-view-versus-copy\n"
                }, 
                {
                    "output_type": "stream", 
                    "name": "stdout", 
                    "text": "sd 1.0000710000355904\nsd 1.0000710000355884\nsd 1.0000710000355943\n"
                }
            ], 
            "source": "# replace outliers that are more than a boundary with the boundary value\ncustomer_data = replace_outliers(customer_data,3.0)"
        }, 
        {
            "execution_count": 16, 
            "cell_type": "code", 
            "metadata": {}, 
            "outputs": [
                {
                    "output_type": "stream", 
                    "name": "stdout", 
                    "text": "max MonthlyCharges 1.79435215026\nmin MonthlyCharges -1.54585982007\nmax TotalCharges 2.82580557787\nmin TotalCharges -1.00577983371\nmax tenure 1.61370124044\nmin tenure -1.3181649474\n"
                }
            ], 
            "source": "print(\"max MonthlyCharges\", customer_data['MonthlyCharges'].max())\nprint(\"min MonthlyCharges\", customer_data['MonthlyCharges'].min())\nprint(\"max TotalCharges\", customer_data['TotalCharges'].max())\nprint(\"min TotalCharges\", customer_data['TotalCharges'].min())\nprint(\"max tenure\", customer_data['tenure'].max())\nprint(\"min tenure\", customer_data['tenure'].min())"
        }, 
        {
            "execution_count": 17, 
            "cell_type": "code", 
            "metadata": {}, 
            "outputs": [
                {
                    "execution_count": 17, 
                    "metadata": {}, 
                    "data": {
                        "text/html": "<div>\n<style scoped>\n    .dataframe tbody tr th:only-of-type {\n        vertical-align: middle;\n    }\n\n    .dataframe tbody tr th {\n        vertical-align: top;\n    }\n\n    .dataframe thead th {\n        text-align: right;\n    }\n</style>\n<table border=\"1\" class=\"dataframe\">\n  <thead>\n    <tr style=\"text-align: right;\">\n      <th></th>\n      <th>MonthlyCharges</th>\n      <th>TotalCharges</th>\n      <th>InternetService</th>\n      <th>PaymentMethod</th>\n      <th>OnlineSecurity</th>\n      <th>Churn</th>\n      <th>Contract</th>\n      <th>tenure</th>\n    </tr>\n  </thead>\n  <tbody>\n    <tr>\n      <th>0</th>\n      <td>-1.160323</td>\n      <td>-0.992611</td>\n      <td>0</td>\n      <td>2</td>\n      <td>0</td>\n      <td>0</td>\n      <td>0</td>\n      <td>-1.277445</td>\n    </tr>\n    <tr>\n      <th>1</th>\n      <td>-0.259629</td>\n      <td>-0.172165</td>\n      <td>0</td>\n      <td>3</td>\n      <td>2</td>\n      <td>0</td>\n      <td>1</td>\n      <td>0.066327</td>\n    </tr>\n    <tr>\n      <th>2</th>\n      <td>-0.362660</td>\n      <td>-0.958066</td>\n      <td>0</td>\n      <td>3</td>\n      <td>2</td>\n      <td>1</td>\n      <td>0</td>\n      <td>-1.236724</td>\n    </tr>\n    <tr>\n      <th>3</th>\n      <td>-0.746535</td>\n      <td>-0.193672</td>\n      <td>0</td>\n      <td>0</td>\n      <td>2</td>\n      <td>0</td>\n      <td>1</td>\n      <td>0.514251</td>\n    </tr>\n    <tr>\n      <th>4</th>\n      <td>0.197365</td>\n      <td>-0.938874</td>\n      <td>1</td>\n      <td>2</td>\n      <td>0</td>\n      <td>1</td>\n      <td>0</td>\n      <td>-1.236724</td>\n    </tr>\n  </tbody>\n</table>\n</div>", 
                        "text/plain": "   MonthlyCharges  TotalCharges  InternetService  PaymentMethod  \\\n0       -1.160323     -0.992611                0              2   \n1       -0.259629     -0.172165                0              3   \n2       -0.362660     -0.958066                0              3   \n3       -0.746535     -0.193672                0              0   \n4        0.197365     -0.938874                1              2   \n\n   OnlineSecurity  Churn  Contract    tenure  \n0               0      0         0 -1.277445  \n1               2      0         1  0.066327  \n2               2      1         0 -1.236724  \n3               2      0         1  0.514251  \n4               0      1         0 -1.236724  "
                    }, 
                    "output_type": "execute_result"
                }
            ], 
            "source": "customer_data.head()"
        }, 
        {
            "execution_count": 18, 
            "cell_type": "code", 
            "metadata": {}, 
            "outputs": [
                {
                    "output_type": "stream", 
                    "name": "stdout", 
                    "text": "max MonthlyCharges 1.79435215026\nmin MonthlyCharges -1.54585982007\nmax TotalCharges 2.82580557787\nmin TotalCharges -1.00577983371\nmax tenure 1.61370124044\nmin tenure -1.3181649474\n"
                }
            ], 
            "source": "print(\"max MonthlyCharges\", customer_data['MonthlyCharges'].max())\nprint(\"min MonthlyCharges\", customer_data['MonthlyCharges'].min())\nprint(\"max TotalCharges\", customer_data['TotalCharges'].max())\nprint(\"min TotalCharges\", customer_data['TotalCharges'].min())\nprint(\"max tenure\", customer_data['tenure'].max())\nprint(\"min tenure\", customer_data['tenure'].min())\n"
        }, 
        {
            "source": "# Data in the Modeler flow post Auto Data Prep\n- values in categorical columns have been replaced with numerical IDs\n- the continuous columns have been scaled with a zscore transformation and outliers have been replaced\n<table style=\"border: none\" align=\"left\">\n   </tr>\n   <tr style=\"border: none\">\n       <th style=\"border: none\"><img src=\"https://raw.githubusercontent.com/ryanmark1867/june2019_ML_bootcamp/master/flow_preview_auto_data_prep.jpg\" width=\"600\" alt=\"Icon\"> </th>\n   </tr>\n</table>", 
            "cell_type": "markdown", 
            "metadata": {}
        }, 
        {
            "source": "# Split dataset into test and train\n<table style=\"border: none\" align=\"left\">\n   </tr>\n   <tr style=\"border: none\">\n       <th style=\"border: none\"><img src=\"https://raw.githubusercontent.com/ryanmark1867/june2019_ML_bootcamp/master/flow_partition.jpg\" width=\"600\" alt=\"Icon\"> </th>\n   </tr>\n</table>", 
            "cell_type": "markdown", 
            "metadata": {}
        }, 
        {
            "execution_count": 19, 
            "cell_type": "code", 
            "metadata": {
                "scrolled": true, 
                "slideshow": {
                    "slide_type": "subslide"
                }
            }, 
            "outputs": [
                {
                    "output_type": "stream", 
                    "name": "stdout", 
                    "text": "(4930, 7) (4930,)\n(2113, 7) (2113,)\n"
                }
            ], 
            "source": "# define label\ny_le = customer_data['Churn']\n# define input values\nX_selected = customer_data.drop(['Churn'],axis=1)\nX_train, X_test, y_train, y_test = train_test_split(X_selected, y_le,\\\n                                                    test_size=testproportion, random_state=42)\nprint(X_train.shape, y_train.shape)\nprint(X_test.shape, y_test.shape)"
        }, 
        {
            "execution_count": 20, 
            "cell_type": "code", 
            "metadata": {}, 
            "outputs": [
                {
                    "execution_count": 20, 
                    "metadata": {}, 
                    "data": {
                        "text/html": "<div>\n<style scoped>\n    .dataframe tbody tr th:only-of-type {\n        vertical-align: middle;\n    }\n\n    .dataframe tbody tr th {\n        vertical-align: top;\n    }\n\n    .dataframe thead th {\n        text-align: right;\n    }\n</style>\n<table border=\"1\" class=\"dataframe\">\n  <thead>\n    <tr style=\"text-align: right;\">\n      <th></th>\n      <th>MonthlyCharges</th>\n      <th>TotalCharges</th>\n      <th>InternetService</th>\n      <th>PaymentMethod</th>\n      <th>OnlineSecurity</th>\n      <th>Contract</th>\n      <th>tenure</th>\n    </tr>\n  </thead>\n  <tbody>\n    <tr>\n      <th>185</th>\n      <td>-1.328164</td>\n      <td>-0.994838</td>\n      <td>0</td>\n      <td>2</td>\n      <td>0</td>\n      <td>0</td>\n      <td>-1.277445</td>\n    </tr>\n    <tr>\n      <th>2715</th>\n      <td>-1.313208</td>\n      <td>-0.566163</td>\n      <td>2</td>\n      <td>0</td>\n      <td>1</td>\n      <td>0</td>\n      <td>0.351370</td>\n    </tr>\n    <tr>\n      <th>3825</th>\n      <td>-1.509300</td>\n      <td>-0.550611</td>\n      <td>2</td>\n      <td>3</td>\n      <td>1</td>\n      <td>2</td>\n      <td>0.799294</td>\n    </tr>\n    <tr>\n      <th>1807</th>\n      <td>0.385148</td>\n      <td>-0.972096</td>\n      <td>1</td>\n      <td>2</td>\n      <td>0</td>\n      <td>0</td>\n      <td>-1.277445</td>\n    </tr>\n    <tr>\n      <th>132</th>\n      <td>-0.472339</td>\n      <td>0.432521</td>\n      <td>0</td>\n      <td>0</td>\n      <td>0</td>\n      <td>2</td>\n      <td>1.410099</td>\n    </tr>\n  </tbody>\n</table>\n</div>", 
                        "text/plain": "      MonthlyCharges  TotalCharges  InternetService  PaymentMethod  \\\n185        -1.328164     -0.994838                0              2   \n2715       -1.313208     -0.566163                2              0   \n3825       -1.509300     -0.550611                2              3   \n1807        0.385148     -0.972096                1              2   \n132        -0.472339      0.432521                0              0   \n\n      OnlineSecurity  Contract    tenure  \n185                0         0 -1.277445  \n2715               1         0  0.351370  \n3825               1         2  0.799294  \n1807               0         0 -1.277445  \n132                0         2  1.410099  "
                    }, 
                    "output_type": "execute_result"
                }
            ], 
            "source": "X_test.head()"
        }, 
        {
            "source": "# Train Support Vector Machine\n<table style=\"border: none\" align=\"left\">\n   </tr>\n   <tr style=\"border: none\">\n       <th style=\"border: none\"><img src=\"https://raw.githubusercontent.com/ryanmark1867/june2019_ML_bootcamp/master/flow_SVM_train.jpg\" width=\"600\" alt=\"Icon\"> </th>\n   </tr>\n</table>", 
            "cell_type": "markdown", 
            "metadata": {
                "slideshow": {
                    "slide_type": "slide"
                }
            }
        }, 
        {
            "execution_count": 21, 
            "cell_type": "code", 
            "metadata": {
                "scrolled": true, 
                "slideshow": {
                    "slide_type": "fragment"
                }
            }, 
            "outputs": [
                {
                    "execution_count": 21, 
                    "metadata": {}, 
                    "data": {
                        "text/plain": "SVC(C=1.0, cache_size=200, class_weight=None, coef0=0.0,\n  decision_function_shape='ovr', degree=3, gamma='auto', kernel='rbf',\n  max_iter=-1, probability=False, random_state=42, shrinking=True,\n  tol=0.001, verbose=False)"
                    }, 
                    "output_type": "execute_result"
                }
            ], 
            "source": "# fit SVM using training data\nclf_svc = svm.SVC(random_state=42)\nclf_svc.fit(X_train, y_train)"
        }, 
        {
            "source": "# Train Logistic Regression\n<table style=\"border: none\" align=\"left\">\n   </tr>\n   <tr style=\"border: none\">\n       <th style=\"border: none\"><img src=\"https://raw.githubusercontent.com/ryanmark1867/june2019_ML_bootcamp/master/flow_logistic_regression_train.jpg\" width=\"600\" alt=\"Icon\"> </th>\n   </tr>\n</table>", 
            "cell_type": "markdown", 
            "metadata": {
                "slideshow": {
                    "slide_type": "slide"
                }
            }
        }, 
        {
            "execution_count": 22, 
            "cell_type": "code", 
            "metadata": {
                "slideshow": {
                    "slide_type": "fragment"
                }
            }, 
            "outputs": [
                {
                    "execution_count": 22, 
                    "metadata": {}, 
                    "data": {
                        "text/plain": "LogisticRegression(C=1.0, class_weight=None, dual=False, fit_intercept=True,\n          intercept_scaling=1, max_iter=100, multi_class='ovr', n_jobs=1,\n          penalty='l2', random_state=None, solver='liblinear', tol=0.0001,\n          verbose=0, warm_start=False)"
                    }, 
                    "output_type": "execute_result"
                }
            ], 
            "source": "from sklearn.linear_model import LogisticRegression\n\nclf_lr = LogisticRegression()\nmodel = clf_lr.fit(X_train, y_train)\nmodel"
        }, 
        {
            "source": "# Evaluate Support Vector Machine\n<table style=\"border: none\" align=\"left\">\n   </tr>\n   <tr style=\"border: none\">\n       <th style=\"border: none\"><img src=\"https://raw.githubusercontent.com/ryanmark1867/june2019_ML_bootcamp/master/flow_SVM_results2.jpg\" width=\"600\" alt=\"Icon\"> </th>\n   </tr>\n</table>\n\nResults from Modeler flow SVM:\n\nResults for output field Churn_transformed\nComparing $S-Churn_transformed with Churn_transformed\n'Partition'            1_Training            2_Testing         \nCorrect                     3,859   78.56%       1,722   80.81%\nWrong                       1,053   21.44%         409   19.19%\nTotal                       4,912                2,131    ", 
            "cell_type": "markdown", 
            "metadata": {
                "slideshow": {
                    "slide_type": "slide"
                }
            }
        }, 
        {
            "execution_count": 23, 
            "cell_type": "code", 
            "metadata": {
                "slideshow": {
                    "slide_type": "fragment"
                }
            }, 
            "outputs": [
                {
                    "execution_count": 23, 
                    "metadata": {}, 
                    "data": {
                        "text/plain": "array([-0.06117747, -1.01810821, -1.01249794, ..., -1.01551142,\n       -0.02449712, -1.04244246])"
                    }, 
                    "output_type": "execute_result"
                }
            ], 
            "source": "# Get model confidence of predictions\ny_score_svc = clf_svc.decision_function(X_test)\ny_score_svc"
        }, 
        {
            "execution_count": 24, 
            "cell_type": "code", 
            "metadata": {
                "slideshow": {
                    "slide_type": "subslide"
                }
            }, 
            "outputs": [
                {
                    "output_type": "stream", 
                    "name": "stdout", 
                    "text": "0.795551348793\n"
                }
            ], 
            "source": "# Get accuracy score\ny_pred_svc = clf_svc.predict(X_test)\nacc_svc = accuracy_score(y_test, y_pred_svc)\nprint(acc_svc)"
        }, 
        {
            "execution_count": 25, 
            "cell_type": "code", 
            "metadata": {
                "slideshow": {
                    "slide_type": "subslide"
                }
            }, 
            "outputs": [
                {
                    "output_type": "stream", 
                    "name": "stdout", 
                    "text": "Average precision-recall score: 0.64\n"
                }
            ], 
            "source": "# Get Precision vs. Recall score\naverage_precision_svc = average_precision_score(y_test, y_score_svc)\n\nprint('Average precision-recall score: {0:0.2f}'.format(\n      average_precision_svc))"
        }, 
        {
            "source": "# Evaluate Logistic Regression\n<table style=\"border: none\" align=\"left\">\n   </tr>\n   <tr style=\"border: none\">\n       <th style=\"border: none\"><img src=\"https://raw.githubusercontent.com/ryanmark1867/june2019_ML_bootcamp/master/flow_logistic_regression_results.jpg\" width=\"600\" alt=\"Icon\"> </th>\n   </tr>\n</table>\n\nResults for output field Churn_transformed\nComparing $L-Churn_transformed with Churn_transformed\n'Partition'            1_Training            2_Testing         \nCorrect                     3,891   79.21%       1,725   80.95%\nWrong                       1,021   20.79%         406   19.05%\nTotal                       4,912                2,131         \nPerformance Evaluation\n'Partition' = 1_Training                 \n0                                   0.857\n1                                    0.14\n'Partition' = 2_Testing                 \n0                                  0.943\n1                                  0.129", 
            "cell_type": "markdown", 
            "metadata": {
                "slideshow": {
                    "slide_type": "slide"
                }
            }
        }, 
        {
            "execution_count": 26, 
            "cell_type": "code", 
            "metadata": {
                "scrolled": true, 
                "slideshow": {
                    "slide_type": "fragment"
                }
            }, 
            "outputs": [
                {
                    "execution_count": 26, 
                    "metadata": {}, 
                    "data": {
                        "text/plain": "array([-0.55997081, -2.6605672 , -5.07462064, ..., -4.51331337,\n        0.30978154, -0.71314255])"
                    }, 
                    "output_type": "execute_result"
                }
            ], 
            "source": "y_score_lr = clf_lr.decision_function(X_test)\ny_score_lr"
        }, 
        {
            "execution_count": 27, 
            "cell_type": "code", 
            "metadata": {
                "scrolled": true, 
                "slideshow": {
                    "slide_type": "subslide"
                }
            }, 
            "outputs": [
                {
                    "output_type": "stream", 
                    "name": "stdout", 
                    "text": "0.793658305726\n"
                }
            ], 
            "source": "y_pred_lr = clf_lr.predict(X_test)\nacc_lr = accuracy_score(y_test, y_pred_lr)\nprint(acc_lr)"
        }, 
        {
            "execution_count": 28, 
            "cell_type": "code", 
            "metadata": {
                "slideshow": {
                    "slide_type": "subslide"
                }
            }, 
            "outputs": [
                {
                    "output_type": "stream", 
                    "name": "stdout", 
                    "text": "Average precision-recall score: 0.64\n"
                }
            ], 
            "source": "average_precision_lr = average_precision_score(y_test, y_score_lr)\n\nprint('Average precision-recall score: {0:0.2f}'.format(\n      average_precision_lr))"
        }
    ], 
    "metadata": {
        "kernelspec": {
            "display_name": "Python 3.5", 
            "name": "python3", 
            "language": "python"
        }, 
        "language_info": {
            "mimetype": "text/x-python", 
            "nbconvert_exporter": "python", 
            "version": "3.5.5", 
            "name": "python", 
            "file_extension": ".py", 
            "pygments_lexer": "ipython3", 
            "codemirror_mode": {
                "version": 3, 
                "name": "ipython"
            }
        }
    }, 
    "nbformat": 4
}